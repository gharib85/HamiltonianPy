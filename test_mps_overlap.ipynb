{
 "cells": [
  {
   "cell_type": "code",
   "execution_count": 2,
   "metadata": {
    "collapsed": false
   },
   "outputs": [
    {
     "name": "stdout",
     "output_type": "stream",
     "text": [
      "overlap1,overlap2: 3.81104595071 Tensor(labels=[], data=3.81104595071)\n"
     ]
    }
   ],
   "source": [
    "from HamiltonianPy import *\n",
    "from HamiltonianPy.DMRG import *\n",
    "import numpy as np\n",
    "\n",
    "a1=np.random.random(16)\n",
    "a2=np.random.random(16)\n",
    "overlap1=a1.dot(a2)\n",
    "\n",
    "shapes=[2,2,2,2]\n",
    "labels=[]\n",
    "for i in xrange(4):\n",
    "    temp=[]\n",
    "    temp.append(Label(i%4))\n",
    "    temp.append(Label('%s'%i))\n",
    "    temp.append(Label((i+1)%4))\n",
    "    labels.append(temp)\n",
    "\n",
    "mps1=MPS.from_state(a1,shapes,labels,cut=2)\n",
    "mps2=MPS.from_state(a2,shapes,labels,cut=1)\n",
    "overlap2=MPS.overlap(mps1,mps2)\n",
    "\n",
    "print 'overlap1,overlap2:',overlap1,overlap2\n"
   ]
  }
 ],
 "metadata": {
  "kernelspec": {
   "display_name": "Python [Root]",
   "language": "python",
   "name": "Python [Root]"
  },
  "language_info": {
   "codemirror_mode": {
    "name": "ipython",
    "version": 2
   },
   "file_extension": ".py",
   "mimetype": "text/x-python",
   "name": "python",
   "nbconvert_exporter": "python",
   "pygments_lexer": "ipython2",
   "version": "2.7.12"
  }
 },
 "nbformat": 4,
 "nbformat_minor": 0
}
