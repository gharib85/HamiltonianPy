{
 "cells": [
  {
   "cell_type": "code",
   "execution_count": 4,
   "metadata": {
    "collapsed": false
   },
   "outputs": [
    {
     "name": "stdout",
     "output_type": "stream",
     "text": [
      "QuantumNumber\n",
      "a:\n",
      "QN(Sz=0.5(U1))\n",
      "copy(a):\n",
      "QN(Sz=0.5(U1))\n",
      "deepcopy(a):\n",
      "QN(Sz=0.5(U1))\n",
      "unpickle of a:\n",
      "QN(Sz=0.5(U1))\n",
      "\n",
      "QuantumNumberColletion\n",
      "a:\n",
      "QNC(QN(Sz=0.5(U1)):(0:1),QN(Sz=-0.5(U1)):(1:2))\n",
      "copy(a):\n",
      "QNC(QN(Sz=0.5(U1)):(0:1),QN(Sz=-0.5(U1)):(1:2))\n",
      "deepcopy(a):\n",
      "QNC(QN(Sz=0.5(U1)):(0:1),QN(Sz=-0.5(U1)):(1:2))\n",
      "unpickle of a:\n",
      "QNC(QN(Sz=0.5(U1)):(0:1),QN(Sz=-0.5(U1)):(1:2))\n",
      "\n",
      "Tree\n",
      "a:\n",
      "{'B00': 0, 'B10': 1, 'B11': 2}\n",
      "copy(a):\n",
      "{'B00': 0, 'B10': 1, 'B11': 2}\n",
      "deepcopy(a):\n",
      "{'B00': 0, 'B10': 1, 'B11': 2}\n",
      "unpickle of a:\n",
      "{'B00': 0, 'B10': 1, 'B11': 2}\n",
      "\n",
      "Tensor\n",
      "a:\n",
      "Tensor(labels=['i', 'j'],\n",
      "data=[[ 0.37295601  0.97011399]\n",
      " [ 0.68663093  0.97164928]])\n",
      "copy(a):\n",
      "Tensor(labels=['i', 'j'],\n",
      "data=[[ 0.37295601  0.97011399]\n",
      " [ 0.68663093  0.97164928]])\n",
      "deepcopy(a):\n",
      "Tensor(labels=['i', 'j'],\n",
      "data=[[ 0.37295601  0.97011399]\n",
      " [ 0.68663093  0.97164928]])\n",
      "unpickle of a:\n"
     ]
    },
    {
     "ename": "AttributeError",
     "evalue": "'Tensor' object has no attribute 'labels'",
     "output_type": "error",
     "traceback": [
      "\u001b[1;31m---------------------------------------------------------------------------\u001b[0m",
      "\u001b[1;31mAttributeError\u001b[0m                            Traceback (most recent call last)",
      "\u001b[1;32m<ipython-input-4-799fad7df049>\u001b[0m in \u001b[0;36m<module>\u001b[1;34m()\u001b[0m\n\u001b[0;32m     32\u001b[0m \u001b[1;33m\u001b[0m\u001b[0m\n\u001b[0;32m     33\u001b[0m \u001b[1;32mprint\u001b[0m \u001b[1;34m'Tensor'\u001b[0m\u001b[1;33m\u001b[0m\u001b[0m\n\u001b[1;32m---> 34\u001b[1;33m \u001b[0mcopy_deepcopy_pickle\u001b[0m\u001b[1;33m(\u001b[0m\u001b[0mTensor\u001b[0m\u001b[1;33m(\u001b[0m\u001b[0mnp\u001b[0m\u001b[1;33m.\u001b[0m\u001b[0mrandom\u001b[0m\u001b[1;33m.\u001b[0m\u001b[0mrandom\u001b[0m\u001b[1;33m(\u001b[0m\u001b[1;33m(\u001b[0m\u001b[1;36m2\u001b[0m\u001b[1;33m,\u001b[0m\u001b[1;36m2\u001b[0m\u001b[1;33m)\u001b[0m\u001b[1;33m)\u001b[0m\u001b[1;33m,\u001b[0m\u001b[0mlabels\u001b[0m\u001b[1;33m=\u001b[0m\u001b[1;33m[\u001b[0m\u001b[1;34m'i'\u001b[0m\u001b[1;33m,\u001b[0m\u001b[1;34m'j'\u001b[0m\u001b[1;33m]\u001b[0m\u001b[1;33m)\u001b[0m\u001b[1;33m)\u001b[0m\u001b[1;33m\u001b[0m\u001b[0m\n\u001b[0m",
      "\u001b[1;32m<ipython-input-4-799fad7df049>\u001b[0m in \u001b[0;36mcopy_deepcopy_pickle\u001b[1;34m(a)\u001b[0m\n\u001b[0;32m     11\u001b[0m     \u001b[1;32mwith\u001b[0m \u001b[0mopen\u001b[0m\u001b[1;33m(\u001b[0m\u001b[0mname\u001b[0m\u001b[1;33m,\u001b[0m\u001b[1;34m'rb'\u001b[0m\u001b[1;33m)\u001b[0m \u001b[1;32mas\u001b[0m \u001b[0mfin\u001b[0m\u001b[1;33m:\u001b[0m\u001b[1;33m\u001b[0m\u001b[0m\n\u001b[0;32m     12\u001b[0m         \u001b[0mb\u001b[0m\u001b[1;33m=\u001b[0m\u001b[0mpickle\u001b[0m\u001b[1;33m.\u001b[0m\u001b[0mload\u001b[0m\u001b[1;33m(\u001b[0m\u001b[0mfin\u001b[0m\u001b[1;33m)\u001b[0m\u001b[1;33m\u001b[0m\u001b[0m\n\u001b[1;32m---> 13\u001b[1;33m     \u001b[1;32mprint\u001b[0m \u001b[1;34m'unpickle of a:\\n'\u001b[0m\u001b[1;33m,\u001b[0m\u001b[0mb\u001b[0m\u001b[1;33m\u001b[0m\u001b[0m\n\u001b[0m\u001b[0;32m     14\u001b[0m     \u001b[1;32mprint\u001b[0m\u001b[1;33m\u001b[0m\u001b[0m\n\u001b[0;32m     15\u001b[0m \u001b[1;33m\u001b[0m\u001b[0m\n",
      "\u001b[1;32m/home/waltergu/anaconda/lib/python2.7/site-packages/HamiltonianPy/Math/Tensor.pyc\u001b[0m in \u001b[0;36m__str__\u001b[1;34m(self)\u001b[0m\n\u001b[0;32m     64\u001b[0m         '''\n\u001b[0;32m     65\u001b[0m         \u001b[1;32mif\u001b[0m \u001b[0mself\u001b[0m\u001b[1;33m.\u001b[0m\u001b[0mndim\u001b[0m\u001b[1;33m>\u001b[0m\u001b[1;36m1\u001b[0m\u001b[1;33m:\u001b[0m\u001b[1;33m\u001b[0m\u001b[0m\n\u001b[1;32m---> 66\u001b[1;33m             \u001b[1;32mreturn\u001b[0m \u001b[1;34m\"%s(labels=%s,\\ndata=%s)\"\u001b[0m\u001b[1;33m%\u001b[0m\u001b[1;33m(\u001b[0m\u001b[0mself\u001b[0m\u001b[1;33m.\u001b[0m\u001b[0m__class__\u001b[0m\u001b[1;33m.\u001b[0m\u001b[0m__name__\u001b[0m\u001b[1;33m,\u001b[0m\u001b[0mself\u001b[0m\u001b[1;33m.\u001b[0m\u001b[0mlabels\u001b[0m\u001b[1;33m,\u001b[0m\u001b[0mndarray\u001b[0m\u001b[1;33m.\u001b[0m\u001b[0m__str__\u001b[0m\u001b[1;33m(\u001b[0m\u001b[0mself\u001b[0m\u001b[1;33m)\u001b[0m\u001b[1;33m)\u001b[0m\u001b[1;33m\u001b[0m\u001b[0m\n\u001b[0m\u001b[0;32m     67\u001b[0m         \u001b[1;32melse\u001b[0m\u001b[1;33m:\u001b[0m\u001b[1;33m\u001b[0m\u001b[0m\n\u001b[0;32m     68\u001b[0m             \u001b[1;32mreturn\u001b[0m \u001b[1;34m\"%s(labels=%s, data=%s)\"\u001b[0m\u001b[1;33m%\u001b[0m\u001b[1;33m(\u001b[0m\u001b[0mself\u001b[0m\u001b[1;33m.\u001b[0m\u001b[0m__class__\u001b[0m\u001b[1;33m.\u001b[0m\u001b[0m__name__\u001b[0m\u001b[1;33m,\u001b[0m\u001b[0mself\u001b[0m\u001b[1;33m.\u001b[0m\u001b[0mlabels\u001b[0m\u001b[1;33m,\u001b[0m\u001b[0mndarray\u001b[0m\u001b[1;33m.\u001b[0m\u001b[0m__str__\u001b[0m\u001b[1;33m(\u001b[0m\u001b[0mself\u001b[0m\u001b[1;33m)\u001b[0m\u001b[1;33m)\u001b[0m\u001b[1;33m\u001b[0m\u001b[0m\n",
      "\u001b[1;31mAttributeError\u001b[0m: 'Tensor' object has no attribute 'labels'"
     ]
    }
   ],
   "source": [
    "from copy import copy,deepcopy\n",
    "import pickle\n",
    "\n",
    "def copy_deepcopy_pickle(a):\n",
    "    print 'a:\\n',a\n",
    "    print 'copy(a):\\n',copy(a)\n",
    "    print 'deepcopy(a):\\n',deepcopy(a)\n",
    "    name='/home/waltergu/Desktop/buff.dat'\n",
    "    with open(name,'wb') as fout:\n",
    "        pickle.dump(a,fout,2)\n",
    "    with open(name,'rb') as fin:\n",
    "        b=pickle.load(fin)\n",
    "    print 'unpickle of a:\\n',b\n",
    "    print\n",
    "\n",
    "from HamiltonianPy import SpinQN,SpinQNC\n",
    "\n",
    "print 'QuantumNumber'\n",
    "copy_deepcopy_pickle(SpinQN(0.5))\n",
    "\n",
    "print 'QuantumNumberColletion'\n",
    "copy_deepcopy_pickle(SpinQNC(0.5))\n",
    "\n",
    "from HamiltonianPy.Math import Tree,Tensor\n",
    "import numpy as np\n",
    "print 'Tree'\n",
    "tree=Tree()\n",
    "tree.add_leaf(parent=None,leaf='B00',data=0)\n",
    "tree.add_leaf(parent='B00',leaf='B10',data=1)\n",
    "tree.add_leaf(parent='B00',leaf='B11',data=2)\n",
    "copy_deepcopy_pickle(tree)\n",
    "\n",
    "print 'Tensor'\n",
    "copy_deepcopy_pickle(Tensor(np.random.random((2,2)),labels=['i','j']))"
   ]
  },
  {
   "cell_type": "code",
   "execution_count": null,
   "metadata": {
    "collapsed": true
   },
   "outputs": [],
   "source": []
  }
 ],
 "metadata": {
  "kernelspec": {
   "display_name": "Python 2",
   "language": "python",
   "name": "python2"
  },
  "language_info": {
   "codemirror_mode": {
    "name": "ipython",
    "version": 2
   },
   "file_extension": ".py",
   "mimetype": "text/x-python",
   "name": "python",
   "nbconvert_exporter": "python",
   "pygments_lexer": "ipython2",
   "version": "2.7.12"
  }
 },
 "nbformat": 4,
 "nbformat_minor": 0
}
