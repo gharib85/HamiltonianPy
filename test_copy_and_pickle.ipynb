{
 "cells": [
  {
   "cell_type": "code",
   "execution_count": null,
   "metadata": {
    "collapsed": true
   },
   "outputs": [],
   "source": [
    "from copy import copy,deepcopy\n",
    "import pickle\n",
    "\n",
    "def copy_deepcopy_pickle(a):\n",
    "    print 'a:\\n',a\n",
    "    print 'copy(a):\\n',copy(a)\n",
    "    print 'deepcopy(a):\\n',deepcopy(a)\n",
    "    name='/home/waltergu/Desktop/buff.dat'\n",
    "    with open(name,'wb') as fout:\n",
    "        pickle.dump(a,fout,2)\n",
    "    with open(name,'rb') as fin:\n",
    "        b=pickle.load(fin)\n",
    "        print b.__dict__\n",
    "        print 'unpickle of a:\\n',b\n",
    "    print\n",
    "\n",
    "from HamiltonianPy import SpinQN,SpinQNC\n",
    "\n",
    "#print 'QuantumNumber'\n",
    "#copy_deepcopy_pickle(SpinQN(0.5))\n",
    "\n",
    "#print 'QuantumNumberColletion'\n",
    "#copy_deepcopy_pickle(SpinQNC(0.5))\n",
    "\n",
    "from HamiltonianPy.Math import Tree,Tensor\n",
    "import numpy as np\n",
    "#print 'Tree'\n",
    "tree=Tree()\n",
    "tree.add_leaf(parent=None,leaf='B00',data=0)\n",
    "tree.add_leaf(parent='B00',leaf='B10',data=1)\n",
    "tree.add_leaf(parent='B00',leaf='B11',data=2)\n",
    "#copy_deepcopy_pickle(tree)\n",
    "\n",
    "print 'Tensor'\n",
    "copy_deepcopy_pickle(Tensor(np.random.random((2,2)),labels=['i','j']))"
   ]
  },
  {
   "cell_type": "code",
   "execution_count": 1,
   "metadata": {
    "collapsed": false
   },
   "outputs": [
    {
     "name": "stdout",
     "output_type": "stream",
     "text": [
      "(<built-in function _reconstruct>, (<type 'numpy.ndarray'>, (0,), 'b'), (1, (3, 3), dtype('float64'), False, '\\xdc{M\\xee\\xb18\\xee?\\xc6#\\xe4\\x95\\xcd\\xad\\xec?w\\xaf\\xe2\\x9f\\x98 \\xe9?\\xae\\xc3h\\xcao\\x19\\xde?\\xc8\\t\\xa8URy\\xd7?\\xcf\\xf2Nw\\x83E\\xee?\\x00I\\x17\\xc5oMn?\\xfaU\\xaf\\xc4Y\\xbf\\xd9?\\xcb\\x9a\\x08\\x16\\xc0\\x1b\\xe2?'))\n"
     ]
    }
   ],
   "source": [
    "import numpy as np\n",
    "a=np.random.random((3,3))\n",
    "print a.__reduce__()"
   ]
  },
  {
   "cell_type": "code",
   "execution_count": 3,
   "metadata": {
    "collapsed": false
   },
   "outputs": [],
   "source": [
    "import numpy as np\n",
    "a=np.random.random((3,3))\n",
    "b=a.__reduce_ex__(2)"
   ]
  },
  {
   "cell_type": "code",
   "execution_count": 4,
   "metadata": {
    "collapsed": false
   },
   "outputs": [
    {
     "data": {
      "text/plain": [
       "<function numpy.core.multiarray._reconstruct>"
      ]
     },
     "execution_count": 4,
     "metadata": {},
     "output_type": "execute_result"
    }
   ],
   "source": [
    "b[0]"
   ]
  },
  {
   "cell_type": "code",
   "execution_count": 5,
   "metadata": {
    "collapsed": false
   },
   "outputs": [
    {
     "data": {
      "text/plain": [
       "(numpy.ndarray, (0,), 'b')"
      ]
     },
     "execution_count": 5,
     "metadata": {},
     "output_type": "execute_result"
    }
   ],
   "source": [
    "b[1]"
   ]
  },
  {
   "cell_type": "code",
   "execution_count": 6,
   "metadata": {
    "collapsed": false
   },
   "outputs": [
    {
     "data": {
      "text/plain": [
       "(1,\n",
       " (3, 3),\n",
       " dtype('float64'),\n",
       " False,\n",
       " 'nj,N\\x16\\xf5\\xd0?\\xaeW\\x90\\xf7\\x02\\xb3\\xe0?Nm\\x15\\xeer\\xfd\\xe8?D\\x01\\x963xY\\xde?c\\xa8\\xaa\\xaazr\\xed?\\xde\\xe4;\\x90}\\x16\\xef?\\xfd{\\xadj\\xedC\\xe8?\\xb0\\x19\\xc0 T\\xf9\\xb9?;\\xa6\\xe6\\xf3\\x07\\xad\\xe8?')"
      ]
     },
     "execution_count": 6,
     "metadata": {},
     "output_type": "execute_result"
    }
   ],
   "source": [
    "b[2]"
   ]
  },
  {
   "cell_type": "code",
   "execution_count": 8,
   "metadata": {
    "collapsed": false
   },
   "outputs": [
    {
     "ename": "AttributeError",
     "evalue": "'numpy.ndarray' object has no attribute '__dict__'",
     "output_type": "error",
     "traceback": [
      "\u001b[1;31m---------------------------------------------------------------------------\u001b[0m",
      "\u001b[1;31mAttributeError\u001b[0m                            Traceback (most recent call last)",
      "\u001b[1;32m<ipython-input-8-87da7e691200>\u001b[0m in \u001b[0;36m<module>\u001b[1;34m()\u001b[0m\n\u001b[1;32m----> 1\u001b[1;33m \u001b[0ma\u001b[0m\u001b[1;33m.\u001b[0m\u001b[0m__dict__\u001b[0m\u001b[1;33m\u001b[0m\u001b[0m\n\u001b[0m",
      "\u001b[1;31mAttributeError\u001b[0m: 'numpy.ndarray' object has no attribute '__dict__'"
     ]
    }
   ],
   "source": [
    "a.__dict__"
   ]
  },
  {
   "cell_type": "code",
   "execution_count": null,
   "metadata": {
    "collapsed": true
   },
   "outputs": [],
   "source": []
  }
 ],
 "metadata": {
  "kernelspec": {
   "display_name": "Python [Root]",
   "language": "python",
   "name": "Python [Root]"
  },
  "language_info": {
   "codemirror_mode": {
    "name": "ipython",
    "version": 2
   },
   "file_extension": ".py",
   "mimetype": "text/x-python",
   "name": "python",
   "nbconvert_exporter": "python",
   "pygments_lexer": "ipython2",
   "version": "2.7.12"
  }
 },
 "nbformat": 4,
 "nbformat_minor": 0
}
